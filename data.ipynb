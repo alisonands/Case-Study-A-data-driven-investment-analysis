{
 "cells": [
  {
   "cell_type": "code",
   "execution_count": null,
   "metadata": {},
   "outputs": [],
   "source": [
    "#set end date for today's date for up to date data\n",
    "end = '2023-12-04' #date.today()\n",
    "#List to append data temporarily\n",
    "ls= []\n",
    "#dataframe to hold all the retrieved data\n",
    "final_df = {}\n",
    "\n",
    "#loop through each ticker in info_df\n",
    "for sym in info_df[\"Ticker\"]:\n",
    "\n",
    "    #store data retrieved a Ticker from 2018-01-01 to today's date\n",
    "    stock_data = wb.DataReader({sym}, start='2018-1-1', end= end)\n",
    "    stock_data[\"Ticker\"] = sym\n",
    "    \n",
    "    #appennding the data in ls list\n",
    "    ls.append(stock_data)\n",
    "    \n",
    "    #concate that ls to final_df dataframe\n",
    "    final_df = pd.concat(ls)\n",
    "#show the dataframe\n",
    "final_df"
   ]
  }
 ],
 "metadata": {
  "language_info": {
   "name": "python"
  }
 },
 "nbformat": 4,
 "nbformat_minor": 2
}
