{
 "cells": [
  {
   "cell_type": "code",
   "execution_count": 4,
   "metadata": {},
   "outputs": [],
   "source": [
    "import requests\n",
    "import pandas as pd\n",
    "from api_keys import IEX_api"
   ]
  },
  {
   "cell_type": "code",
   "execution_count": 51,
   "metadata": {},
   "outputs": [
    {
     "data": {
      "text/plain": [
       "<Response [200]>"
      ]
     },
     "execution_count": 51,
     "metadata": {},
     "output_type": "execute_result"
    }
   ],
   "source": [
    "strategy = 'BALANCE_SHEET'\n",
    "ticker = 'AAPL'\n",
    "# url = f'https://api.iex.cloud/v1/data/core/{strategy}/{ticker}/?token={IEX_api}'\n",
    "url = f'https://api.iex.cloud/v1/data/core/balance_sheet/aapl/quarterly?last=30&token={IEX_api}'\n",
    "response = requests.get(url)\n",
    "response"
   ]
  },
  {
   "cell_type": "code",
   "execution_count": 53,
   "metadata": {},
   "outputs": [
    {
     "data": {
      "text/plain": [
       "dict_keys(['accountsPayable', 'capitalSurplus', 'commonStock', 'currency', 'currentAssets', 'currentCash', 'currentLongTermDebt', 'filingType', 'fiscalDate', 'fiscalQuarter', 'fiscalYear', 'goodwill', 'intangibleAssets', 'inventory', 'longTermDebt', 'longTermInvestments', 'minorityInterest', 'netTangibleAssets', 'otherAssets', 'otherCurrentAssets', 'otherCurrentLiabilities', 'otherLiabilities', 'propertyPlantEquipment', 'receivables', 'reportDate', 'retainedEarnings', 'shareholderEquity', 'shortTermInvestments', 'symbol', 'totalAssets', 'totalCurrentLiabilities', 'totalLiabilities', 'treasuryStock', 'id', 'key', 'subkey', 'date', 'updated'])"
      ]
     },
     "execution_count": 53,
     "metadata": {},
     "output_type": "execute_result"
    }
   ],
   "source": [
    "response.json()[-1].keys()"
   ]
  },
  {
   "cell_type": "code",
   "execution_count": 10,
   "metadata": {},
   "outputs": [
    {
     "data": {
      "text/html": [
       "<div>\n",
       "<style scoped>\n",
       "    .dataframe tbody tr th:only-of-type {\n",
       "        vertical-align: middle;\n",
       "    }\n",
       "\n",
       "    .dataframe tbody tr th {\n",
       "        vertical-align: top;\n",
       "    }\n",
       "\n",
       "    .dataframe thead th {\n",
       "        text-align: right;\n",
       "    }\n",
       "</style>\n",
       "<table border=\"1\" class=\"dataframe\">\n",
       "  <thead>\n",
       "    <tr style=\"text-align: right;\">\n",
       "      <th></th>\n",
       "      <th>s</th>\n",
       "      <th>a</th>\n",
       "      <th>b</th>\n",
       "      <th>asz</th>\n",
       "      <th>bsz</th>\n",
       "      <th>t</th>\n",
       "    </tr>\n",
       "  </thead>\n",
       "  <tbody>\n",
       "    <tr>\n",
       "      <th>0</th>\n",
       "      <td>RCG</td>\n",
       "      <td>0.0000</td>\n",
       "      <td>1.5500</td>\n",
       "      <td>0</td>\n",
       "      <td>30</td>\n",
       "      <td>1704502800284318</td>\n",
       "    </tr>\n",
       "    <tr>\n",
       "      <th>1</th>\n",
       "      <td>RNWWW</td>\n",
       "      <td>1.1500</td>\n",
       "      <td>0.4701</td>\n",
       "      <td>10</td>\n",
       "      <td>11</td>\n",
       "      <td>1704488430751125</td>\n",
       "    </tr>\n",
       "    <tr>\n",
       "      <th>2</th>\n",
       "      <td>BAER</td>\n",
       "      <td>7.5000</td>\n",
       "      <td>5.0000</td>\n",
       "      <td>1</td>\n",
       "      <td>10</td>\n",
       "      <td>1704491904517095</td>\n",
       "    </tr>\n",
       "    <tr>\n",
       "      <th>3</th>\n",
       "      <td>DFGX</td>\n",
       "      <td>83.5900</td>\n",
       "      <td>20.9200</td>\n",
       "      <td>1</td>\n",
       "      <td>2</td>\n",
       "      <td>1704489139654692</td>\n",
       "    </tr>\n",
       "    <tr>\n",
       "      <th>4</th>\n",
       "      <td>DFSD</td>\n",
       "      <td>51.2900</td>\n",
       "      <td>42.3100</td>\n",
       "      <td>1</td>\n",
       "      <td>2</td>\n",
       "      <td>1704488410010536</td>\n",
       "    </tr>\n",
       "    <tr>\n",
       "      <th>...</th>\n",
       "      <td>...</td>\n",
       "      <td>...</td>\n",
       "      <td>...</td>\n",
       "      <td>...</td>\n",
       "      <td>...</td>\n",
       "      <td>...</td>\n",
       "    </tr>\n",
       "    <tr>\n",
       "      <th>11105</th>\n",
       "      <td>BKIE</td>\n",
       "      <td>0.0000</td>\n",
       "      <td>67.4400</td>\n",
       "      <td>0</td>\n",
       "      <td>1</td>\n",
       "      <td>1704502800288289</td>\n",
       "    </tr>\n",
       "    <tr>\n",
       "      <th>11106</th>\n",
       "      <td>MRDB.WS</td>\n",
       "      <td>0.0600</td>\n",
       "      <td>0.0150</td>\n",
       "      <td>6</td>\n",
       "      <td>2</td>\n",
       "      <td>1704502800020892</td>\n",
       "    </tr>\n",
       "    <tr>\n",
       "      <th>11107</th>\n",
       "      <td>BROG</td>\n",
       "      <td>2.8700</td>\n",
       "      <td>2.5200</td>\n",
       "      <td>4</td>\n",
       "      <td>1</td>\n",
       "      <td>1704502399482458</td>\n",
       "    </tr>\n",
       "    <tr>\n",
       "      <th>11108</th>\n",
       "      <td>WOLF</td>\n",
       "      <td>41.3100</td>\n",
       "      <td>40.3500</td>\n",
       "      <td>1</td>\n",
       "      <td>1</td>\n",
       "      <td>1704502800308157</td>\n",
       "    </tr>\n",
       "    <tr>\n",
       "      <th>11109</th>\n",
       "      <td>BIAFW</td>\n",
       "      <td>0.1125</td>\n",
       "      <td>0.0515</td>\n",
       "      <td>47</td>\n",
       "      <td>1</td>\n",
       "      <td>1704488400364621</td>\n",
       "    </tr>\n",
       "  </tbody>\n",
       "</table>\n",
       "<p>11110 rows × 6 columns</p>\n",
       "</div>"
      ],
      "text/plain": [
       "             s        a        b  asz  bsz                 t\n",
       "0          RCG   0.0000   1.5500    0   30  1704502800284318\n",
       "1        RNWWW   1.1500   0.4701   10   11  1704488430751125\n",
       "2         BAER   7.5000   5.0000    1   10  1704491904517095\n",
       "3         DFGX  83.5900  20.9200    1    2  1704489139654692\n",
       "4         DFSD  51.2900  42.3100    1    2  1704488410010536\n",
       "...        ...      ...      ...  ...  ...               ...\n",
       "11105     BKIE   0.0000  67.4400    0    1  1704502800288289\n",
       "11106  MRDB.WS   0.0600   0.0150    6    2  1704502800020892\n",
       "11107     BROG   2.8700   2.5200    4    1  1704502399482458\n",
       "11108     WOLF  41.3100  40.3500    1    1  1704502800308157\n",
       "11109    BIAFW   0.1125   0.0515   47    1  1704488400364621\n",
       "\n",
       "[11110 rows x 6 columns]"
      ]
     },
     "execution_count": 10,
     "metadata": {},
     "output_type": "execute_result"
    }
   ],
   "source": [
    "pd.DataFrame(response.json()['lastQuotes'])"
   ]
  },
  {
   "cell_type": "code",
   "execution_count": null,
   "metadata": {},
   "outputs": [],
   "source": []
  }
 ],
 "metadata": {
  "kernelspec": {
   "display_name": "base",
   "language": "python",
   "name": "python3"
  },
  "language_info": {
   "codemirror_mode": {
    "name": "ipython",
    "version": 3
   },
   "file_extension": ".py",
   "mimetype": "text/x-python",
   "name": "python",
   "nbconvert_exporter": "python",
   "pygments_lexer": "ipython3",
   "version": "3.11.5"
  }
 },
 "nbformat": 4,
 "nbformat_minor": 2
}
