{
 "cells": [
  {
   "cell_type": "code",
   "execution_count": 115,
   "metadata": {},
   "outputs": [],
   "source": [
    "import requests\n",
    "import pandas as pd\n",
    "from api_keys import IEX_api"
   ]
  },
  {
   "cell_type": "code",
   "execution_count": 116,
   "metadata": {},
   "outputs": [],
   "source": [
    "ticker = 'AAPL'\n",
    "period = 'annual'\n",
    "last = '30'"
   ]
  },
  {
   "cell_type": "code",
   "execution_count": 117,
   "metadata": {},
   "outputs": [
    {
     "data": {
      "text/plain": [
       "<Response [200]>"
      ]
     },
     "execution_count": 117,
     "metadata": {},
     "output_type": "execute_result"
    }
   ],
   "source": [
    "#balance sheet  \n",
    "strategy = 'balance_sheet'\n",
    "\n",
    "# url = f'https://api.iex.cloud/v1/data/core/{strategy}/{ticker}/?token={IEX_api}'\n",
    "url = f'https://api.iex.cloud/v1/data/core/{strategy}/{ticker}/{period}?last={last}&token={IEX_api}'\n",
    "response = requests.get(url)\n",
    "balance_sheet = response.json()\n",
    "response"
   ]
  },
  {
   "cell_type": "code",
   "execution_count": 118,
   "metadata": {},
   "outputs": [
    {
     "data": {
      "text/plain": [
       "<Response [200]>"
      ]
     },
     "execution_count": 118,
     "metadata": {},
     "output_type": "execute_result"
    }
   ],
   "source": [
    "#cash_flow\n",
    "strategy = 'cash_flow'\n",
    "url = f'https://api.iex.cloud/v1/data/core/{strategy}/{ticker}/{period}?last={last}&token={IEX_api}'\n",
    "response = requests.get(url)\n",
    "cash_flow = response.json()\n",
    "response"
   ]
  },
  {
   "cell_type": "code",
   "execution_count": 119,
   "metadata": {},
   "outputs": [
    {
     "data": {
      "text/plain": [
       "<Response [200]>"
      ]
     },
     "execution_count": 119,
     "metadata": {},
     "output_type": "execute_result"
    }
   ],
   "source": [
    "#income statement\n",
    "strategy = 'income'\n",
    "url = f'https://api.iex.cloud/v1/data/core/{strategy}/{ticker}/{period}?last={last}&token={IEX_api}'\n",
    "response = requests.get(url)\n",
    "income_statement = response.json()\n",
    "response"
   ]
  },
  {
   "cell_type": "code",
   "execution_count": 120,
   "metadata": {},
   "outputs": [
    {
     "data": {
      "text/plain": [
       "<Response [200]>"
      ]
     },
     "execution_count": 120,
     "metadata": {},
     "output_type": "execute_result"
    }
   ],
   "source": [
    "#fundamentals\n",
    "strategy = 'fundamentals'\n",
    "url = f'https://api.iex.cloud/v1/data/core/{strategy}/{ticker}/{period}?last={last}&token={IEX_api}'\n",
    "response = requests.get(url)\n",
    "fundamentals = response.json()\n",
    "response"
   ]
  },
  {
   "cell_type": "code",
   "execution_count": 121,
   "metadata": {},
   "outputs": [
    {
     "data": {
      "text/plain": [
       "dict_keys(['accountsPayable', 'accountsPayableTurnover', 'accountsReceivable', 'accountsReceivableTurnover', 'asOfDate', 'assetsCurrentCash', 'assetsCurrentCashRestricted', 'assetsCurrentDeferredCompensation', 'assetsCurrentDeferredTax', 'assetsCurrentDiscontinuedOperations', 'assetsCurrentInvestments', 'assetsCurrentLeasesOperating', 'assetsCurrentLoansNet', 'assetsCurrentOther', 'assetsCurrentSeparateAccounts', 'assetsCurrentUnadjusted', 'assetsFixed', 'assetsFixedDeferredCompensation', 'assetsFixedDeferredTax', 'assetsFixedDiscontinuedOperations', 'assetsFixedLeasesOperating', 'assetsFixedOperatingDiscontinuedOperations', 'assetsFixedOperatingSubsidiaryUnconsolidated', 'assetsFixedOreo', 'assetsFixedOther', 'assetsFixedUnconsolidated', 'assetsUnadjusted', 'capex', 'capexAcquisition', 'capexMaintenance', 'cashConversionCycle', 'cashFlowFinancing', 'cashFlowInvesting', 'cashFlowOperating', 'cashFlowShareRepurchase', 'cashLongTerm', 'cashOperating', 'cashPaidForIncomeTaxes', 'cashPaidForInterest', 'cashRestricted', 'chargeAfterTax', 'chargeAfterTaxDiscontinuedOperations', 'chargesAfterTaxOther', 'cik', 'creditLossProvision', 'dataGenerationDate', 'daysInAccountsPayable', 'daysInInventory', 'daysInRevenueDeferred', 'daysRevenueOutstanding', 'debtFinancial', 'debtShortTerm', 'depreciationAndAmortizationAccumulated', 'depreciationAndAmortizationCashFlow', 'dividendsPreferred', 'dividendsPreferredRedeemableMandatorily', 'earningsRetained', 'ebitdaReported', 'ebitReported', 'equityShareholder', 'equityShareholderOther', 'equityShareholderOtherDeferredCompensation', 'equityShareholderOtherEquity', 'equityShareholderOtherMezzanine', 'expenses', 'expensesAcquisitionMerger', 'expensesCompensation', 'expensesDepreciationAndAmortization', 'expensesDerivative', 'expensesDiscontinuedOperations', 'expensesDiscontinuedOperationsReits', 'expensesEnergy', 'expensesForeignCurrency', 'expensesInterest', 'expensesInterestFinancials', 'expensesInterestMinority', 'expensesLegalRegulatoryInsurance', 'expensesNonOperatingCompanyDefinedOther', 'expensesNonOperatingOther', 'expensesNonOperatingSubsidiaryUnconsolidated', 'expensesNonRecurringOther', 'expensesOperating', 'expensesOperatingOther', 'expensesOperatingSubsidiaryUnconsolidated', 'expensesOreo', 'expensesOreoReits', 'expensesOtherFinancing', 'expensesRestructuring', 'expensesSga', 'expensesStockCompensation', 'expensesWriteDown', 'ffo', 'figi', 'filingDate', 'filingType', 'fiscalQuarter', 'fiscalYear', 'goodwillAmortizationCashFlow', 'goodwillAmortizationIncomeStatement', 'goodwillAndIntangiblesNetOther', 'goodwillNet', 'incomeFromOperations', 'incomeNet', 'incomeNetPerRevenue', 'incomeNetPerWabso', 'incomeNetPerWabsoSplitAdjusted', 'incomeNetPerWabsoSplitAdjustedYoyDeltaPercent', 'incomeNetPerWadso', 'incomeNetPerWadsoSplitAdjusted', 'incomeNetPerWadsoSplitAdjustedYoyDeltaPercent', 'incomeNetPreTax', 'incomeNetYoyDelta', 'incomeOperating', 'incomeOperatingDiscontinuedOperations', 'incomeOperatingOther', 'incomeOperatingSubsidiaryUnconsolidated', 'incomeOperatingSubsidiaryUnconsolidatedAfterTax', 'incomeTax', 'incomeTaxCurrent', 'incomeTaxDeferred', 'incomeTaxDiscontinuedOperations', 'incomeTaxOther', 'incomeTaxRate', 'interestMinority', 'inventory', 'inventoryTurnover', 'liabilities', 'liabilitiesCurrent', 'liabilitiesNonCurrentAndInterestMinorityTotal', 'liabilitiesNonCurrentDebt', 'liabilitiesNonCurrentDeferredCompensation', 'liabilitiesNonCurrentDeferredTax', 'liabilitiesNonCurrentDiscontinuedOperations', 'liabilitiesNonCurrentLeasesOperating', 'liabilitiesNonCurrentLongTerm', 'liabilitiesNonCurrentOperatingDiscontinuedOperations', 'liabilitiesNonCurrentOther', 'nibclDeferredCompensation', 'nibclDeferredTax', 'nibclDiscontinuedOperations', 'nibclLeasesOperating', 'nibclOther', 'nibclRestructuring', 'nibclRevenueDeferred', 'nibclRevenueDeferredTurnover', 'nibclSeparateAccounts', 'oci', 'periodEndDate', 'ppAndENet', 'pricePerEarnings', 'pricePerEarningsPerRevenueYoyDeltaPercent', 'profitGross', 'profitGrossPerRevenue', 'reportDate', 'researchAndDevelopmentExpense', 'reserves', 'reservesInventory', 'reservesLifo', 'reservesLoanLoss', 'revenue', 'revenueCostOther', 'revenueIncomeInterest', 'revenueOther', 'revenueSubsidiaryUnconsolidated', 'salesCost', 'sharesIssued', 'sharesOutstandingPeDateBs', 'sharesTreasury', 'stockCommon', 'stockPreferred', 'stockPreferredEquity', 'stockPreferredMezzanine', 'stockTreasury', 'symbol', 'totalCashFlow', 'wabso', 'wabsoSplitAdjusted', 'wadso', 'wadsoSplitAdjusted', 'id', 'key', 'subkey', 'date', 'updated'])"
      ]
     },
     "execution_count": 121,
     "metadata": {},
     "output_type": "execute_result"
    }
   ],
   "source": [
    "income_statement[0].keys()\n",
    "balance_sheet[0].keys()\n",
    "cash_flow[0].keys()\n",
    "fundamentals[0].keys()"
   ]
  },
  {
   "cell_type": "code",
   "execution_count": 122,
   "metadata": {},
   "outputs": [],
   "source": [
    "opcash_to_capex = pd.DataFrame({\n",
    "    'date':'',\n",
    "    'Operating cash flow': '',\n",
    "    'capex': ''\n",
    "}, index = range(len(fundamentals)))\n",
    "# opcash_to_capex"
   ]
  },
  {
   "cell_type": "code",
   "execution_count": 123,
   "metadata": {},
   "outputs": [
    {
     "data": {
      "text/html": [
       "<div>\n",
       "<style scoped>\n",
       "    .dataframe tbody tr th:only-of-type {\n",
       "        vertical-align: middle;\n",
       "    }\n",
       "\n",
       "    .dataframe tbody tr th {\n",
       "        vertical-align: top;\n",
       "    }\n",
       "\n",
       "    .dataframe thead th {\n",
       "        text-align: right;\n",
       "    }\n",
       "</style>\n",
       "<table border=\"1\" class=\"dataframe\">\n",
       "  <thead>\n",
       "    <tr style=\"text-align: right;\">\n",
       "      <th></th>\n",
       "      <th>date</th>\n",
       "      <th>Operating cash flow</th>\n",
       "      <th>capex</th>\n",
       "      <th>Operating cash flow to capex</th>\n",
       "    </tr>\n",
       "  </thead>\n",
       "  <tbody>\n",
       "    <tr>\n",
       "      <th>0</th>\n",
       "      <td>2023</td>\n",
       "      <td>110543000000</td>\n",
       "      <td>-10959000000</td>\n",
       "      <td>-0.099138</td>\n",
       "    </tr>\n",
       "    <tr>\n",
       "      <th>1</th>\n",
       "      <td>2022</td>\n",
       "      <td>122151000000</td>\n",
       "      <td>-10708000000</td>\n",
       "      <td>-0.087662</td>\n",
       "    </tr>\n",
       "    <tr>\n",
       "      <th>2</th>\n",
       "      <td>2021</td>\n",
       "      <td>104038000000</td>\n",
       "      <td>-11085000000</td>\n",
       "      <td>-0.106548</td>\n",
       "    </tr>\n",
       "    <tr>\n",
       "      <th>3</th>\n",
       "      <td>2020</td>\n",
       "      <td>80674000000</td>\n",
       "      <td>-7309000000</td>\n",
       "      <td>-0.090599</td>\n",
       "    </tr>\n",
       "    <tr>\n",
       "      <th>4</th>\n",
       "      <td>2019</td>\n",
       "      <td>69391000000</td>\n",
       "      <td>-10495000000</td>\n",
       "      <td>-0.151244</td>\n",
       "    </tr>\n",
       "    <tr>\n",
       "      <th>5</th>\n",
       "      <td>2018</td>\n",
       "      <td>77434000000</td>\n",
       "      <td>-13313000000</td>\n",
       "      <td>-0.171927</td>\n",
       "    </tr>\n",
       "    <tr>\n",
       "      <th>6</th>\n",
       "      <td>2017</td>\n",
       "      <td>63598000000</td>\n",
       "      <td>-12795000000</td>\n",
       "      <td>-0.201186</td>\n",
       "    </tr>\n",
       "    <tr>\n",
       "      <th>7</th>\n",
       "      <td>2016</td>\n",
       "      <td>65824000000</td>\n",
       "      <td>-13548000000</td>\n",
       "      <td>-0.205822</td>\n",
       "    </tr>\n",
       "    <tr>\n",
       "      <th>8</th>\n",
       "      <td>2015</td>\n",
       "      <td>81266000000</td>\n",
       "      <td>-11247000000</td>\n",
       "      <td>-0.138397</td>\n",
       "    </tr>\n",
       "    <tr>\n",
       "      <th>9</th>\n",
       "      <td>2014</td>\n",
       "      <td>59713000000</td>\n",
       "      <td>-9813000000</td>\n",
       "      <td>-0.164336</td>\n",
       "    </tr>\n",
       "    <tr>\n",
       "      <th>10</th>\n",
       "      <td>2013</td>\n",
       "      <td>53666000000</td>\n",
       "      <td>-9076000000</td>\n",
       "      <td>-0.16912</td>\n",
       "    </tr>\n",
       "    <tr>\n",
       "      <th>11</th>\n",
       "      <td>2012</td>\n",
       "      <td>50856000000</td>\n",
       "      <td>-9402000000</td>\n",
       "      <td>-0.184875</td>\n",
       "    </tr>\n",
       "    <tr>\n",
       "      <th>12</th>\n",
       "      <td>2011</td>\n",
       "      <td>37529000000</td>\n",
       "      <td>-7452000000</td>\n",
       "      <td>-0.198566</td>\n",
       "    </tr>\n",
       "    <tr>\n",
       "      <th>13</th>\n",
       "      <td>2010</td>\n",
       "      <td>18595000000</td>\n",
       "      <td>-2121000000</td>\n",
       "      <td>-0.114063</td>\n",
       "    </tr>\n",
       "    <tr>\n",
       "      <th>14</th>\n",
       "      <td>2009</td>\n",
       "      <td>10159000000</td>\n",
       "      <td>-1213000000</td>\n",
       "      <td>-0.119402</td>\n",
       "    </tr>\n",
       "    <tr>\n",
       "      <th>15</th>\n",
       "      <td>2008</td>\n",
       "      <td>9596000000</td>\n",
       "      <td>-1199000000</td>\n",
       "      <td>-0.124948</td>\n",
       "    </tr>\n",
       "    <tr>\n",
       "      <th>16</th>\n",
       "      <td>2007</td>\n",
       "      <td>5470000000</td>\n",
       "      <td>-986000000</td>\n",
       "      <td>-0.180256</td>\n",
       "    </tr>\n",
       "    <tr>\n",
       "      <th>17</th>\n",
       "      <td>2006</td>\n",
       "      <td>2220000000</td>\n",
       "      <td>-657000000</td>\n",
       "      <td>-0.295946</td>\n",
       "    </tr>\n",
       "    <tr>\n",
       "      <th>18</th>\n",
       "      <td>2005</td>\n",
       "      <td>2535000000</td>\n",
       "      <td>0</td>\n",
       "      <td>0.0</td>\n",
       "    </tr>\n",
       "    <tr>\n",
       "      <th>19</th>\n",
       "      <td>2004</td>\n",
       "      <td>934000000</td>\n",
       "      <td>0</td>\n",
       "      <td>0.0</td>\n",
       "    </tr>\n",
       "    <tr>\n",
       "      <th>20</th>\n",
       "      <td>2003</td>\n",
       "      <td>289000000</td>\n",
       "      <td>0</td>\n",
       "      <td>0.0</td>\n",
       "    </tr>\n",
       "    <tr>\n",
       "      <th>21</th>\n",
       "      <td>2002</td>\n",
       "      <td>89000000</td>\n",
       "      <td>0</td>\n",
       "      <td>0.0</td>\n",
       "    </tr>\n",
       "    <tr>\n",
       "      <th>22</th>\n",
       "      <td>2001</td>\n",
       "      <td>185000000</td>\n",
       "      <td>0</td>\n",
       "      <td>0.0</td>\n",
       "    </tr>\n",
       "    <tr>\n",
       "      <th>23</th>\n",
       "      <td>2000</td>\n",
       "      <td>826000000</td>\n",
       "      <td>0</td>\n",
       "      <td>0.0</td>\n",
       "    </tr>\n",
       "    <tr>\n",
       "      <th>24</th>\n",
       "      <td>1999</td>\n",
       "      <td>798000000</td>\n",
       "      <td>0</td>\n",
       "      <td>0.0</td>\n",
       "    </tr>\n",
       "    <tr>\n",
       "      <th>25</th>\n",
       "      <td>1998</td>\n",
       "      <td>775000000</td>\n",
       "      <td>0</td>\n",
       "      <td>0.0</td>\n",
       "    </tr>\n",
       "  </tbody>\n",
       "</table>\n",
       "</div>"
      ],
      "text/plain": [
       "    date Operating cash flow         capex Operating cash flow to capex\n",
       "0   2023        110543000000  -10959000000                    -0.099138\n",
       "1   2022        122151000000  -10708000000                    -0.087662\n",
       "2   2021        104038000000  -11085000000                    -0.106548\n",
       "3   2020         80674000000   -7309000000                    -0.090599\n",
       "4   2019         69391000000  -10495000000                    -0.151244\n",
       "5   2018         77434000000  -13313000000                    -0.171927\n",
       "6   2017         63598000000  -12795000000                    -0.201186\n",
       "7   2016         65824000000  -13548000000                    -0.205822\n",
       "8   2015         81266000000  -11247000000                    -0.138397\n",
       "9   2014         59713000000   -9813000000                    -0.164336\n",
       "10  2013         53666000000   -9076000000                     -0.16912\n",
       "11  2012         50856000000   -9402000000                    -0.184875\n",
       "12  2011         37529000000   -7452000000                    -0.198566\n",
       "13  2010         18595000000   -2121000000                    -0.114063\n",
       "14  2009         10159000000   -1213000000                    -0.119402\n",
       "15  2008          9596000000   -1199000000                    -0.124948\n",
       "16  2007          5470000000    -986000000                    -0.180256\n",
       "17  2006          2220000000    -657000000                    -0.295946\n",
       "18  2005          2535000000             0                          0.0\n",
       "19  2004           934000000             0                          0.0\n",
       "20  2003           289000000             0                          0.0\n",
       "21  2002            89000000             0                          0.0\n",
       "22  2001           185000000             0                          0.0\n",
       "23  2000           826000000             0                          0.0\n",
       "24  1999           798000000             0                          0.0\n",
       "25  1998           775000000             0                          0.0"
      ]
     },
     "execution_count": 123,
     "metadata": {},
     "output_type": "execute_result"
    }
   ],
   "source": [
    "for i in range(len(fundamentals)):\n",
    "    opcash_to_capex.iloc[i]['date'] = fundamentals[i]['date']\n",
    "    opcash_to_capex.loc[i, 'Operating cash flow'] = fundamentals[i]['cashFlowOperating']\n",
    "    opcash_to_capex.loc[i, 'capex'] = fundamentals[i]['capex']\n",
    "    # print(fundamentals[i]['date'], fundamentals[i]['cashFlowOperating'], fundamentals[i]['capex'])\n",
    "\n",
    "opcash_to_capex['date'] = pd.to_datetime(opcash_to_capex['date'], unit = 'ms').dt.year\n",
    "opcash_to_capex['Operating cash flow to capex'] = opcash_to_capex['capex']/opcash_to_capex['Operating cash flow']\n",
    "opcash_to_capex\n"
   ]
  },
  {
   "cell_type": "code",
   "execution_count": null,
   "metadata": {},
   "outputs": [],
   "source": []
  }
 ],
 "metadata": {
  "kernelspec": {
   "display_name": "base",
   "language": "python",
   "name": "python3"
  },
  "language_info": {
   "codemirror_mode": {
    "name": "ipython",
    "version": 3
   },
   "file_extension": ".py",
   "mimetype": "text/x-python",
   "name": "python",
   "nbconvert_exporter": "python",
   "pygments_lexer": "ipython3",
   "version": "3.11.5"
  }
 },
 "nbformat": 4,
 "nbformat_minor": 2
}
