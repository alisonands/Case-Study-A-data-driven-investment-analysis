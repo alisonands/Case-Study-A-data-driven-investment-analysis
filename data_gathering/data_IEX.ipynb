{
 "cells": [
  {
   "cell_type": "code",
   "execution_count": 10,
   "metadata": {},
   "outputs": [],
   "source": [
    "import requests\n",
    "import pandas as pd\n",
    "from api_keys import IEX_api"
   ]
  },
  {
   "cell_type": "code",
   "execution_count": null,
   "metadata": {},
   "outputs": [],
   "source": [
    "ticker = 'AAPL'\n",
    "period = 'annual'\n",
    "last = '30'"
   ]
  },
  {
   "cell_type": "code",
   "execution_count": 11,
   "metadata": {},
   "outputs": [
    {
     "data": {
      "text/plain": [
       "<Response [200]>"
      ]
     },
     "execution_count": 11,
     "metadata": {},
     "output_type": "execute_result"
    }
   ],
   "source": [
    "#balance sheet\n",
    "strategy = 'balance_sheet'\n",
    "\n",
    "# url = f'https://api.iex.cloud/v1/data/core/{strategy}/{ticker}/?token={IEX_api}'\n",
    "url = f'https://api.iex.cloud/v1/data/core/{strategy}/{ticker}/{period}?last={last}&token={IEX_api}'\n",
    "response = requests.get(url)\n",
    "balance_sheet = response.json()\n",
    "response"
   ]
  },
  {
   "cell_type": "code",
   "execution_count": 12,
   "metadata": {},
   "outputs": [
    {
     "data": {
      "text/plain": [
       "<Response [200]>"
      ]
     },
     "execution_count": 12,
     "metadata": {},
     "output_type": "execute_result"
    }
   ],
   "source": [
    "#cash_flow\n",
    "strategy = 'cash_flow'\n",
    "url = f'https://api.iex.cloud/v1/data/core/{strategy}/{ticker}/{period}?last={last}&token={IEX_api}'\n",
    "response = requests.get(url)\n",
    "cash_flow = response.json()\n",
    "response"
   ]
  },
  {
   "cell_type": "code",
   "execution_count": 13,
   "metadata": {},
   "outputs": [
    {
     "data": {
      "text/plain": [
       "<Response [200]>"
      ]
     },
     "execution_count": 13,
     "metadata": {},
     "output_type": "execute_result"
    }
   ],
   "source": [
    "#income statement\n",
    "strategy = 'income'\n",
    "url = f'https://api.iex.cloud/v1/data/core/{strategy}/{ticker}/{period}?last={last}&token={IEX_api}'\n",
    "response = requests.get(url)\n",
    "income_statement = response.json()\n",
    "response"
   ]
  },
  {
   "cell_type": "code",
   "execution_count": 22,
   "metadata": {},
   "outputs": [
    {
     "data": {
      "text/plain": [
       "<Response [200]>"
      ]
     },
     "execution_count": 22,
     "metadata": {},
     "output_type": "execute_result"
    }
   ],
   "source": [
    "#fundamentals\n",
    "strategy = 'fundamentals'\n",
    "url = f'https://api.iex.cloud/v1/data/core/{strategy}/{ticker}/{period}?last={last}&token={IEX_api}'\n",
    "response = requests.get(url)\n",
    "fundamentals = response.json()\n",
    "response"
   ]
  },
  {
   "cell_type": "code",
   "execution_count": 23,
   "metadata": {},
   "outputs": [
    {
     "data": {
      "text/plain": [
       "dict_keys(['accountsPayable', 'accountsPayableTurnover', 'accountsReceivable', 'accountsReceivableTurnover', 'asOfDate', 'assetsCurrentCash', 'assetsCurrentCashRestricted', 'assetsCurrentDeferredCompensation', 'assetsCurrentDeferredTax', 'assetsCurrentDiscontinuedOperations', 'assetsCurrentInvestments', 'assetsCurrentLeasesOperating', 'assetsCurrentLoansNet', 'assetsCurrentOther', 'assetsCurrentSeparateAccounts', 'assetsCurrentUnadjusted', 'assetsFixed', 'assetsFixedDeferredCompensation', 'assetsFixedDeferredTax', 'assetsFixedDiscontinuedOperations', 'assetsFixedLeasesOperating', 'assetsFixedOperatingDiscontinuedOperations', 'assetsFixedOperatingSubsidiaryUnconsolidated', 'assetsFixedOreo', 'assetsFixedOther', 'assetsFixedUnconsolidated', 'assetsUnadjusted', 'capex', 'capexAcquisition', 'capexMaintenance', 'cashConversionCycle', 'cashFlowFinancing', 'cashFlowInvesting', 'cashFlowOperating', 'cashFlowShareRepurchase', 'cashLongTerm', 'cashOperating', 'cashPaidForIncomeTaxes', 'cashPaidForInterest', 'cashRestricted', 'chargeAfterTax', 'chargeAfterTaxDiscontinuedOperations', 'chargesAfterTaxOther', 'cik', 'creditLossProvision', 'dataGenerationDate', 'daysInAccountsPayable', 'daysInInventory', 'daysInRevenueDeferred', 'daysRevenueOutstanding', 'debtFinancial', 'debtShortTerm', 'depreciationAndAmortizationAccumulated', 'depreciationAndAmortizationCashFlow', 'dividendsPreferred', 'dividendsPreferredRedeemableMandatorily', 'earningsRetained', 'ebitdaReported', 'ebitReported', 'equityShareholder', 'equityShareholderOther', 'equityShareholderOtherDeferredCompensation', 'equityShareholderOtherEquity', 'equityShareholderOtherMezzanine', 'expenses', 'expensesAcquisitionMerger', 'expensesCompensation', 'expensesDepreciationAndAmortization', 'expensesDerivative', 'expensesDiscontinuedOperations', 'expensesDiscontinuedOperationsReits', 'expensesEnergy', 'expensesForeignCurrency', 'expensesInterest', 'expensesInterestFinancials', 'expensesInterestMinority', 'expensesLegalRegulatoryInsurance', 'expensesNonOperatingCompanyDefinedOther', 'expensesNonOperatingOther', 'expensesNonOperatingSubsidiaryUnconsolidated', 'expensesNonRecurringOther', 'expensesOperating', 'expensesOperatingOther', 'expensesOperatingSubsidiaryUnconsolidated', 'expensesOreo', 'expensesOreoReits', 'expensesOtherFinancing', 'expensesRestructuring', 'expensesSga', 'expensesStockCompensation', 'expensesWriteDown', 'ffo', 'figi', 'filingDate', 'filingType', 'fiscalQuarter', 'fiscalYear', 'goodwillAmortizationCashFlow', 'goodwillAmortizationIncomeStatement', 'goodwillAndIntangiblesNetOther', 'goodwillNet', 'incomeFromOperations', 'incomeNet', 'incomeNetPerRevenue', 'incomeNetPerWabso', 'incomeNetPerWabsoSplitAdjusted', 'incomeNetPerWabsoSplitAdjustedYoyDeltaPercent', 'incomeNetPerWadso', 'incomeNetPerWadsoSplitAdjusted', 'incomeNetPerWadsoSplitAdjustedYoyDeltaPercent', 'incomeNetPreTax', 'incomeNetYoyDelta', 'incomeOperating', 'incomeOperatingDiscontinuedOperations', 'incomeOperatingOther', 'incomeOperatingSubsidiaryUnconsolidated', 'incomeOperatingSubsidiaryUnconsolidatedAfterTax', 'incomeTax', 'incomeTaxCurrent', 'incomeTaxDeferred', 'incomeTaxDiscontinuedOperations', 'incomeTaxOther', 'incomeTaxRate', 'interestMinority', 'inventory', 'inventoryTurnover', 'liabilities', 'liabilitiesCurrent', 'liabilitiesNonCurrentAndInterestMinorityTotal', 'liabilitiesNonCurrentDebt', 'liabilitiesNonCurrentDeferredCompensation', 'liabilitiesNonCurrentDeferredTax', 'liabilitiesNonCurrentDiscontinuedOperations', 'liabilitiesNonCurrentLeasesOperating', 'liabilitiesNonCurrentLongTerm', 'liabilitiesNonCurrentOperatingDiscontinuedOperations', 'liabilitiesNonCurrentOther', 'nibclDeferredCompensation', 'nibclDeferredTax', 'nibclDiscontinuedOperations', 'nibclLeasesOperating', 'nibclOther', 'nibclRestructuring', 'nibclRevenueDeferred', 'nibclRevenueDeferredTurnover', 'nibclSeparateAccounts', 'oci', 'periodEndDate', 'ppAndENet', 'pricePerEarnings', 'pricePerEarningsPerRevenueYoyDeltaPercent', 'profitGross', 'profitGrossPerRevenue', 'reportDate', 'researchAndDevelopmentExpense', 'reserves', 'reservesInventory', 'reservesLifo', 'reservesLoanLoss', 'revenue', 'revenueCostOther', 'revenueIncomeInterest', 'revenueOther', 'revenueSubsidiaryUnconsolidated', 'salesCost', 'sharesIssued', 'sharesOutstandingPeDateBs', 'sharesTreasury', 'stockCommon', 'stockPreferred', 'stockPreferredEquity', 'stockPreferredMezzanine', 'stockTreasury', 'symbol', 'totalCashFlow', 'wabso', 'wabsoSplitAdjusted', 'wadso', 'wadsoSplitAdjusted', 'id', 'key', 'subkey', 'date', 'updated'])"
      ]
     },
     "execution_count": 23,
     "metadata": {},
     "output_type": "execute_result"
    }
   ],
   "source": [
    "income_statement[0].keys()\n",
    "balance_sheet[0].keys()\n",
    "cash_flow[0].keys()\n",
    "fundamentals[0].keys()"
   ]
  },
  {
   "cell_type": "code",
   "execution_count": null,
   "metadata": {},
   "outputs": [],
   "source": []
  }
 ],
 "metadata": {
  "kernelspec": {
   "display_name": "base",
   "language": "python",
   "name": "python3"
  },
  "language_info": {
   "codemirror_mode": {
    "name": "ipython",
    "version": 3
   },
   "file_extension": ".py",
   "mimetype": "text/x-python",
   "name": "python",
   "nbconvert_exporter": "python",
   "pygments_lexer": "ipython3",
   "version": "3.11.5"
  }
 },
 "nbformat": 4,
 "nbformat_minor": 2
}
