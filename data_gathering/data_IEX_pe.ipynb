{
 "cells": [
  {
   "cell_type": "code",
   "execution_count": 13,
   "metadata": {},
   "outputs": [],
   "source": [
    "import requests\n",
    "import pandas as pd\n",
    "from api_keys import IEX_api"
   ]
  },
  {
   "cell_type": "code",
   "execution_count": 14,
   "metadata": {},
   "outputs": [],
   "source": [
    "ticker = 'MSFT'\n",
    "period = 'annual'\n",
    "last = '30'"
   ]
  },
  {
   "cell_type": "code",
   "execution_count": 15,
   "metadata": {},
   "outputs": [
    {
     "data": {
      "text/plain": [
       "<Response [200]>"
      ]
     },
     "execution_count": 15,
     "metadata": {},
     "output_type": "execute_result"
    }
   ],
   "source": [
    "#fundamentals\n",
    "strategy = 'fundamentals'\n",
    "url = f'https://api.iex.cloud/v1/data/core/{strategy}/{ticker}/{period}?last={last}&token={IEX_api}'\n",
    "response = requests.get(url)\n",
    "fundamentals = response.json()\n",
    "response"
   ]
  },
  {
   "cell_type": "code",
   "execution_count": 16,
   "metadata": {},
   "outputs": [
    {
     "data": {
      "text/plain": [
       "dict_keys(['accountsPayable', 'accountsPayableTurnover', 'accountsReceivable', 'accountsReceivableTurnover', 'asOfDate', 'assetsCurrentCash', 'assetsCurrentCashRestricted', 'assetsCurrentDeferredCompensation', 'assetsCurrentDeferredTax', 'assetsCurrentDiscontinuedOperations', 'assetsCurrentInvestments', 'assetsCurrentLeasesOperating', 'assetsCurrentLoansNet', 'assetsCurrentOther', 'assetsCurrentSeparateAccounts', 'assetsCurrentUnadjusted', 'assetsFixed', 'assetsFixedDeferredCompensation', 'assetsFixedDeferredTax', 'assetsFixedDiscontinuedOperations', 'assetsFixedLeasesOperating', 'assetsFixedOperatingDiscontinuedOperations', 'assetsFixedOperatingSubsidiaryUnconsolidated', 'assetsFixedOreo', 'assetsFixedOther', 'assetsFixedUnconsolidated', 'assetsUnadjusted', 'capex', 'capexAcquisition', 'capexMaintenance', 'cashConversionCycle', 'cashFlowFinancing', 'cashFlowInvesting', 'cashFlowOperating', 'cashFlowShareRepurchase', 'cashLongTerm', 'cashOperating', 'cashPaidForIncomeTaxes', 'cashPaidForInterest', 'cashRestricted', 'chargeAfterTax', 'chargeAfterTaxDiscontinuedOperations', 'chargesAfterTaxOther', 'cik', 'creditLossProvision', 'dataGenerationDate', 'daysInAccountsPayable', 'daysInInventory', 'daysInRevenueDeferred', 'daysRevenueOutstanding', 'debtFinancial', 'debtShortTerm', 'depreciationAndAmortizationAccumulated', 'depreciationAndAmortizationCashFlow', 'dividendsPreferred', 'dividendsPreferredRedeemableMandatorily', 'earningsRetained', 'ebitdaReported', 'ebitReported', 'equityShareholder', 'equityShareholderOther', 'equityShareholderOtherDeferredCompensation', 'equityShareholderOtherEquity', 'equityShareholderOtherMezzanine', 'expenses', 'expensesAcquisitionMerger', 'expensesCompensation', 'expensesDepreciationAndAmortization', 'expensesDerivative', 'expensesDiscontinuedOperations', 'expensesDiscontinuedOperationsReits', 'expensesEnergy', 'expensesForeignCurrency', 'expensesInterest', 'expensesInterestFinancials', 'expensesInterestMinority', 'expensesLegalRegulatoryInsurance', 'expensesNonOperatingCompanyDefinedOther', 'expensesNonOperatingOther', 'expensesNonOperatingSubsidiaryUnconsolidated', 'expensesNonRecurringOther', 'expensesOperating', 'expensesOperatingOther', 'expensesOperatingSubsidiaryUnconsolidated', 'expensesOreo', 'expensesOreoReits', 'expensesOtherFinancing', 'expensesRestructuring', 'expensesSga', 'expensesStockCompensation', 'expensesWriteDown', 'ffo', 'figi', 'filingDate', 'filingType', 'fiscalQuarter', 'fiscalYear', 'goodwillAmortizationCashFlow', 'goodwillAmortizationIncomeStatement', 'goodwillAndIntangiblesNetOther', 'goodwillNet', 'incomeFromOperations', 'incomeNet', 'incomeNetPerRevenue', 'incomeNetPerWabso', 'incomeNetPerWabsoSplitAdjusted', 'incomeNetPerWabsoSplitAdjustedYoyDeltaPercent', 'incomeNetPerWadso', 'incomeNetPerWadsoSplitAdjusted', 'incomeNetPerWadsoSplitAdjustedYoyDeltaPercent', 'incomeNetPreTax', 'incomeNetYoyDelta', 'incomeOperating', 'incomeOperatingDiscontinuedOperations', 'incomeOperatingOther', 'incomeOperatingSubsidiaryUnconsolidated', 'incomeOperatingSubsidiaryUnconsolidatedAfterTax', 'incomeTax', 'incomeTaxCurrent', 'incomeTaxDeferred', 'incomeTaxDiscontinuedOperations', 'incomeTaxOther', 'incomeTaxRate', 'interestMinority', 'inventory', 'inventoryTurnover', 'liabilities', 'liabilitiesCurrent', 'liabilitiesNonCurrentAndInterestMinorityTotal', 'liabilitiesNonCurrentDebt', 'liabilitiesNonCurrentDeferredCompensation', 'liabilitiesNonCurrentDeferredTax', 'liabilitiesNonCurrentDiscontinuedOperations', 'liabilitiesNonCurrentLeasesOperating', 'liabilitiesNonCurrentLongTerm', 'liabilitiesNonCurrentOperatingDiscontinuedOperations', 'liabilitiesNonCurrentOther', 'nibclDeferredCompensation', 'nibclDeferredTax', 'nibclDiscontinuedOperations', 'nibclLeasesOperating', 'nibclOther', 'nibclRestructuring', 'nibclRevenueDeferred', 'nibclRevenueDeferredTurnover', 'nibclSeparateAccounts', 'oci', 'periodEndDate', 'ppAndENet', 'pricePerEarnings', 'pricePerEarningsPerRevenueYoyDeltaPercent', 'profitGross', 'profitGrossPerRevenue', 'reportDate', 'researchAndDevelopmentExpense', 'reserves', 'reservesInventory', 'reservesLifo', 'reservesLoanLoss', 'revenue', 'revenueCostOther', 'revenueIncomeInterest', 'revenueOther', 'revenueSubsidiaryUnconsolidated', 'salesCost', 'sharesIssued', 'sharesOutstandingPeDateBs', 'sharesTreasury', 'stockCommon', 'stockPreferred', 'stockPreferredEquity', 'stockPreferredMezzanine', 'stockTreasury', 'symbol', 'totalCashFlow', 'wabso', 'wabsoSplitAdjusted', 'wadso', 'wadsoSplitAdjusted', 'id', 'key', 'subkey', 'date', 'updated'])"
      ]
     },
     "execution_count": 16,
     "metadata": {},
     "output_type": "execute_result"
    }
   ],
   "source": [
    "fundamentals[0].keys()"
   ]
  },
  {
   "cell_type": "code",
   "execution_count": 17,
   "metadata": {},
   "outputs": [
    {
     "data": {
      "text/plain": [
       "35.1641751772364"
      ]
     },
     "execution_count": 17,
     "metadata": {},
     "output_type": "execute_result"
    }
   ],
   "source": [
    "fundamentals[0]['pricePerEarnings']"
   ]
  },
  {
   "cell_type": "code",
   "execution_count": 18,
   "metadata": {},
   "outputs": [
    {
     "data": {
      "text/html": [
       "<div>\n",
       "<style scoped>\n",
       "    .dataframe tbody tr th:only-of-type {\n",
       "        vertical-align: middle;\n",
       "    }\n",
       "\n",
       "    .dataframe tbody tr th {\n",
       "        vertical-align: top;\n",
       "    }\n",
       "\n",
       "    .dataframe thead th {\n",
       "        text-align: right;\n",
       "    }\n",
       "</style>\n",
       "<table border=\"1\" class=\"dataframe\">\n",
       "  <thead>\n",
       "    <tr style=\"text-align: right;\">\n",
       "      <th></th>\n",
       "      <th>ticker</th>\n",
       "      <th>P/E</th>\n",
       "    </tr>\n",
       "    <tr>\n",
       "      <th>date</th>\n",
       "      <th></th>\n",
       "      <th></th>\n",
       "    </tr>\n",
       "  </thead>\n",
       "  <tbody>\n",
       "    <tr>\n",
       "      <th>2023</th>\n",
       "      <td>MSFT</td>\n",
       "      <td>35.164175</td>\n",
       "    </tr>\n",
       "    <tr>\n",
       "      <th>2022</th>\n",
       "      <td>MSFT</td>\n",
       "      <td>26.622923</td>\n",
       "    </tr>\n",
       "    <tr>\n",
       "      <th>2021</th>\n",
       "      <td>MSFT</td>\n",
       "      <td>33.637564</td>\n",
       "    </tr>\n",
       "    <tr>\n",
       "      <th>2020</th>\n",
       "      <td>MSFT</td>\n",
       "      <td>35.310118</td>\n",
       "    </tr>\n",
       "    <tr>\n",
       "      <th>2019</th>\n",
       "      <td>MSFT</td>\n",
       "      <td>26.467683</td>\n",
       "    </tr>\n",
       "    <tr>\n",
       "      <th>2018</th>\n",
       "      <td>MSFT</td>\n",
       "      <td>46.380203</td>\n",
       "    </tr>\n",
       "    <tr>\n",
       "      <th>2017</th>\n",
       "      <td>MSFT</td>\n",
       "      <td>25.460279</td>\n",
       "    </tr>\n",
       "    <tr>\n",
       "      <th>2016</th>\n",
       "      <td>MSFT</td>\n",
       "      <td>24.409168</td>\n",
       "    </tr>\n",
       "    <tr>\n",
       "      <th>2015</th>\n",
       "      <td>MSFT</td>\n",
       "      <td>29.887157</td>\n",
       "    </tr>\n",
       "    <tr>\n",
       "      <th>2014</th>\n",
       "      <td>MSFT</td>\n",
       "      <td>15.866553</td>\n",
       "    </tr>\n",
       "    <tr>\n",
       "      <th>2013</th>\n",
       "      <td>MSFT</td>\n",
       "      <td>13.381229</td>\n",
       "    </tr>\n",
       "    <tr>\n",
       "      <th>2012</th>\n",
       "      <td>MSFT</td>\n",
       "      <td>15.32563</td>\n",
       "    </tr>\n",
       "    <tr>\n",
       "      <th>2011</th>\n",
       "      <td>MSFT</td>\n",
       "      <td>9.650886</td>\n",
       "    </tr>\n",
       "    <tr>\n",
       "      <th>2010</th>\n",
       "      <td>MSFT</td>\n",
       "      <td>10.949375</td>\n",
       "    </tr>\n",
       "    <tr>\n",
       "      <th>2009</th>\n",
       "      <td>MSFT</td>\n",
       "      <td>14.677392</td>\n",
       "    </tr>\n",
       "    <tr>\n",
       "      <th>2008</th>\n",
       "      <td>MSFT</td>\n",
       "      <td>14.734444</td>\n",
       "    </tr>\n",
       "    <tr>\n",
       "      <th>2007</th>\n",
       "      <td>MSFT</td>\n",
       "      <td>20.713859</td>\n",
       "    </tr>\n",
       "    <tr>\n",
       "      <th>2006</th>\n",
       "      <td>MSFT</td>\n",
       "      <td>19.475538</td>\n",
       "    </tr>\n",
       "    <tr>\n",
       "      <th>2005</th>\n",
       "      <td>MSFT</td>\n",
       "      <td>22.107478</td>\n",
       "    </tr>\n",
       "    <tr>\n",
       "      <th>2004</th>\n",
       "      <td>MSFT</td>\n",
       "      <td>38.091655</td>\n",
       "    </tr>\n",
       "    <tr>\n",
       "      <th>2003</th>\n",
       "      <td>MSFT</td>\n",
       "      <td>27.920993</td>\n",
       "    </tr>\n",
       "    <tr>\n",
       "      <th>2002</th>\n",
       "      <td>MSFT</td>\n",
       "      <td>38.797944</td>\n",
       "    </tr>\n",
       "    <tr>\n",
       "      <th>2001</th>\n",
       "      <td>MSFT</td>\n",
       "      <td>55.390961</td>\n",
       "    </tr>\n",
       "    <tr>\n",
       "      <th>2000</th>\n",
       "      <td>MSFT</td>\n",
       "      <td>47.009872</td>\n",
       "    </tr>\n",
       "    <tr>\n",
       "      <th>1999</th>\n",
       "      <td>MSFT</td>\n",
       "      <td>63.509516</td>\n",
       "    </tr>\n",
       "    <tr>\n",
       "      <th>1998</th>\n",
       "      <td>MSFT</td>\n",
       "      <td>65.1203</td>\n",
       "    </tr>\n",
       "  </tbody>\n",
       "</table>\n",
       "</div>"
      ],
      "text/plain": [
       "     ticker        P/E\n",
       "date                  \n",
       "2023   MSFT  35.164175\n",
       "2022   MSFT  26.622923\n",
       "2021   MSFT  33.637564\n",
       "2020   MSFT  35.310118\n",
       "2019   MSFT  26.467683\n",
       "2018   MSFT  46.380203\n",
       "2017   MSFT  25.460279\n",
       "2016   MSFT  24.409168\n",
       "2015   MSFT  29.887157\n",
       "2014   MSFT  15.866553\n",
       "2013   MSFT  13.381229\n",
       "2012   MSFT   15.32563\n",
       "2011   MSFT   9.650886\n",
       "2010   MSFT  10.949375\n",
       "2009   MSFT  14.677392\n",
       "2008   MSFT  14.734444\n",
       "2007   MSFT  20.713859\n",
       "2006   MSFT  19.475538\n",
       "2005   MSFT  22.107478\n",
       "2004   MSFT  38.091655\n",
       "2003   MSFT  27.920993\n",
       "2002   MSFT  38.797944\n",
       "2001   MSFT  55.390961\n",
       "2000   MSFT  47.009872\n",
       "1999   MSFT  63.509516\n",
       "1998   MSFT    65.1203"
      ]
     },
     "execution_count": 18,
     "metadata": {},
     "output_type": "execute_result"
    }
   ],
   "source": [
    "P_E = pd.DataFrame({\n",
    "    'date':'',\n",
    "    'ticker': ticker,\n",
    "    'P/E': ''\n",
    "}, index = range(len(fundamentals)))\n",
    "for i in range(len(fundamentals)):\n",
    "    P_E.iloc[i]['date'] = fundamentals[i]['date']\n",
    "    P_E.loc[i, 'P/E'] = fundamentals[i]['pricePerEarnings']\n",
    "\n",
    "P_E['date'] = pd.to_datetime(P_E['date'], unit = 'ms').dt.year\n",
    "P_E.set_index('date')"
   ]
  },
  {
   "cell_type": "code",
   "execution_count": 19,
   "metadata": {},
   "outputs": [
    {
     "data": {
      "text/plain": [
       "<Axes: xlabel='date'>"
      ]
     },
     "execution_count": 19,
     "metadata": {},
     "output_type": "execute_result"
    },
    {
     "data": {
      "image/png": "[encoded data removed]",
      "text/plain": [
       "<Figure size 640x480 with 1 Axes>"
      ]
     },
     "metadata": {},
     "output_type": "display_data"
    }
   ],
   "source": [
    "P_E.plot(x = 'date', y = 'P/E')"
   ]
  }
 ],
 "metadata": {
  "kernelspec": {
   "display_name": "base",
   "language": "python",
   "name": "python3"
  },
  "language_info": {
   "codemirror_mode": {
    "name": "ipython",
    "version": 3
   },
   "file_extension": ".py",
   "mimetype": "text/x-python",
   "name": "python",
   "nbconvert_exporter": "python",
   "pygments_lexer": "ipython3",
   "version": "3.11.5"
  }
 },
 "nbformat": 4,
 "nbformat_minor": 2
}
