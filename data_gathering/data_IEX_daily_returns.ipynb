{
 "cells": [
  {
   "cell_type": "code",
   "execution_count": 72,
   "metadata": {},
   "outputs": [],
   "source": [
    "import requests\n",
    "import pandas as pd\n",
    "from api_keys import IEX_api\n",
    "import matplotlib.pyplot as plt\n",
    "import yfinance as yf"
   ]
  },
  {
   "cell_type": "code",
   "execution_count": 87,
   "metadata": {},
   "outputs": [
    {
     "data": {
      "text/plain": [
       "519"
      ]
     },
     "execution_count": 87,
     "metadata": {},
     "output_type": "execute_result"
    }
   ],
   "source": [
    "data = pd.read_csv('../data/tech.csv').dropna(how = 'any', axis = 0)\n",
    "data = data.sort_values(by='Market Cap', ascending=False).reset_index()\n",
    "symbols = data['Symbol']\n",
    "len(symbols)"
   ]
  },
  {
   "cell_type": "code",
   "execution_count": 74,
   "metadata": {},
   "outputs": [
    {
     "data": {
      "text/plain": [
       "<Response [200]>"
      ]
     },
     "execution_count": 74,
     "metadata": {},
     "output_type": "execute_result"
    }
   ],
   "source": [
    "ticker = 'AAPL'\n",
    "url = f'https://api.iex.cloud/v1/data/core/historical_prices/{ticker}?range=ytd&token={IEX_api}'\n",
    "response = requests.get(url)\n",
    "response.json()\n"
   ]
  },
  {
   "cell_type": "code",
   "execution_count": 102,
   "metadata": {},
   "outputs": [
    {
     "data": {
      "text/html": [
       "<div>\n",
       "<style scoped>\n",
       "    .dataframe tbody tr th:only-of-type {\n",
       "        vertical-align: middle;\n",
       "    }\n",
       "\n",
       "    .dataframe tbody tr th {\n",
       "        vertical-align: top;\n",
       "    }\n",
       "\n",
       "    .dataframe thead th {\n",
       "        text-align: right;\n",
       "    }\n",
       "</style>\n",
       "<table border=\"1\" class=\"dataframe\">\n",
       "  <thead>\n",
       "    <tr style=\"text-align: right;\">\n",
       "      <th></th>\n",
       "      <th>Open</th>\n",
       "      <th>High</th>\n",
       "      <th>Low</th>\n",
       "      <th>Close</th>\n",
       "      <th>Volume</th>\n",
       "      <th>Dividends</th>\n",
       "      <th>Stock Splits</th>\n",
       "      <th>ticker</th>\n",
       "    </tr>\n",
       "    <tr>\n",
       "      <th>Date</th>\n",
       "      <th></th>\n",
       "      <th></th>\n",
       "      <th></th>\n",
       "      <th></th>\n",
       "      <th></th>\n",
       "      <th></th>\n",
       "      <th></th>\n",
       "      <th></th>\n",
       "    </tr>\n",
       "  </thead>\n",
       "  <tbody>\n",
       "    <tr>\n",
       "      <th>1994-01-10 00:00:00-05:00</th>\n",
       "      <td>1.646779</td>\n",
       "      <td>1.675839</td>\n",
       "      <td>1.646779</td>\n",
       "      <td>1.661309</td>\n",
       "      <td>74185600</td>\n",
       "      <td>0.0</td>\n",
       "      <td>0.0</td>\n",
       "      <td>AAPL</td>\n",
       "    </tr>\n",
       "    <tr>\n",
       "      <th>1994-01-11 00:00:00-05:00</th>\n",
       "      <td>1.646779</td>\n",
       "      <td>1.666153</td>\n",
       "      <td>1.634671</td>\n",
       "      <td>1.651623</td>\n",
       "      <td>35360000</td>\n",
       "      <td>0.0</td>\n",
       "      <td>0.0</td>\n",
       "      <td>AAPL</td>\n",
       "    </tr>\n",
       "    <tr>\n",
       "      <th>1994-01-12 00:00:00-05:00</th>\n",
       "      <td>1.646779</td>\n",
       "      <td>1.661310</td>\n",
       "      <td>1.622562</td>\n",
       "      <td>1.656466</td>\n",
       "      <td>39488000</td>\n",
       "      <td>0.0</td>\n",
       "      <td>0.0</td>\n",
       "      <td>AAPL</td>\n",
       "    </tr>\n",
       "    <tr>\n",
       "      <th>1994-01-13 00:00:00-05:00</th>\n",
       "      <td>1.641936</td>\n",
       "      <td>1.656466</td>\n",
       "      <td>1.627405</td>\n",
       "      <td>1.654044</td>\n",
       "      <td>40755200</td>\n",
       "      <td>0.0</td>\n",
       "      <td>0.0</td>\n",
       "      <td>AAPL</td>\n",
       "    </tr>\n",
       "    <tr>\n",
       "      <th>1994-01-14 00:00:00-05:00</th>\n",
       "      <td>1.656466</td>\n",
       "      <td>1.666153</td>\n",
       "      <td>1.641936</td>\n",
       "      <td>1.658888</td>\n",
       "      <td>45216000</td>\n",
       "      <td>0.0</td>\n",
       "      <td>0.0</td>\n",
       "      <td>AAPL</td>\n",
       "    </tr>\n",
       "    <tr>\n",
       "      <th>...</th>\n",
       "      <td>...</td>\n",
       "      <td>...</td>\n",
       "      <td>...</td>\n",
       "      <td>...</td>\n",
       "      <td>...</td>\n",
       "      <td>...</td>\n",
       "      <td>...</td>\n",
       "      <td>...</td>\n",
       "    </tr>\n",
       "    <tr>\n",
       "      <th>2024-01-02 00:00:00-05:00</th>\n",
       "      <td>373.859985</td>\n",
       "      <td>375.899994</td>\n",
       "      <td>366.769989</td>\n",
       "      <td>370.869995</td>\n",
       "      <td>25258600</td>\n",
       "      <td>0.0</td>\n",
       "      <td>0.0</td>\n",
       "      <td>AAPL</td>\n",
       "    </tr>\n",
       "    <tr>\n",
       "      <th>2024-01-03 00:00:00-05:00</th>\n",
       "      <td>369.010010</td>\n",
       "      <td>373.260010</td>\n",
       "      <td>368.510010</td>\n",
       "      <td>370.600006</td>\n",
       "      <td>23083500</td>\n",
       "      <td>0.0</td>\n",
       "      <td>0.0</td>\n",
       "      <td>AAPL</td>\n",
       "    </tr>\n",
       "    <tr>\n",
       "      <th>2024-01-04 00:00:00-05:00</th>\n",
       "      <td>370.670013</td>\n",
       "      <td>373.100006</td>\n",
       "      <td>367.170013</td>\n",
       "      <td>367.940002</td>\n",
       "      <td>20901500</td>\n",
       "      <td>0.0</td>\n",
       "      <td>0.0</td>\n",
       "      <td>AAPL</td>\n",
       "    </tr>\n",
       "    <tr>\n",
       "      <th>2024-01-05 00:00:00-05:00</th>\n",
       "      <td>368.970001</td>\n",
       "      <td>372.059998</td>\n",
       "      <td>366.500000</td>\n",
       "      <td>367.750000</td>\n",
       "      <td>20987000</td>\n",
       "      <td>0.0</td>\n",
       "      <td>0.0</td>\n",
       "      <td>AAPL</td>\n",
       "    </tr>\n",
       "    <tr>\n",
       "      <th>2024-01-08 00:00:00-05:00</th>\n",
       "      <td>369.299988</td>\n",
       "      <td>374.769989</td>\n",
       "      <td>369.029999</td>\n",
       "      <td>374.260101</td>\n",
       "      <td>12857568</td>\n",
       "      <td>0.0</td>\n",
       "      <td>0.0</td>\n",
       "      <td>AAPL</td>\n",
       "    </tr>\n",
       "  </tbody>\n",
       "</table>\n",
       "<p>7552 rows × 8 columns</p>\n",
       "</div>"
      ],
      "text/plain": [
       "                                 Open        High         Low       Close  \\\n",
       "Date                                                                        \n",
       "1994-01-10 00:00:00-05:00    1.646779    1.675839    1.646779    1.661309   \n",
       "1994-01-11 00:00:00-05:00    1.646779    1.666153    1.634671    1.651623   \n",
       "1994-01-12 00:00:00-05:00    1.646779    1.661310    1.622562    1.656466   \n",
       "1994-01-13 00:00:00-05:00    1.641936    1.656466    1.627405    1.654044   \n",
       "1994-01-14 00:00:00-05:00    1.656466    1.666153    1.641936    1.658888   \n",
       "...                               ...         ...         ...         ...   \n",
       "2024-01-02 00:00:00-05:00  373.859985  375.899994  366.769989  370.869995   \n",
       "2024-01-03 00:00:00-05:00  369.010010  373.260010  368.510010  370.600006   \n",
       "2024-01-04 00:00:00-05:00  370.670013  373.100006  367.170013  367.940002   \n",
       "2024-01-05 00:00:00-05:00  368.970001  372.059998  366.500000  367.750000   \n",
       "2024-01-08 00:00:00-05:00  369.299988  374.769989  369.029999  374.260101   \n",
       "\n",
       "                             Volume  Dividends  Stock Splits ticker  \n",
       "Date                                                                 \n",
       "1994-01-10 00:00:00-05:00  74185600        0.0           0.0   AAPL  \n",
       "1994-01-11 00:00:00-05:00  35360000        0.0           0.0   AAPL  \n",
       "1994-01-12 00:00:00-05:00  39488000        0.0           0.0   AAPL  \n",
       "1994-01-13 00:00:00-05:00  40755200        0.0           0.0   AAPL  \n",
       "1994-01-14 00:00:00-05:00  45216000        0.0           0.0   AAPL  \n",
       "...                             ...        ...           ...    ...  \n",
       "2024-01-02 00:00:00-05:00  25258600        0.0           0.0   AAPL  \n",
       "2024-01-03 00:00:00-05:00  23083500        0.0           0.0   AAPL  \n",
       "2024-01-04 00:00:00-05:00  20901500        0.0           0.0   AAPL  \n",
       "2024-01-05 00:00:00-05:00  20987000        0.0           0.0   AAPL  \n",
       "2024-01-08 00:00:00-05:00  12857568        0.0           0.0   AAPL  \n",
       "\n",
       "[7552 rows x 8 columns]"
      ]
     },
     "execution_count": 102,
     "metadata": {},
     "output_type": "execute_result"
    }
   ],
   "source": [
    "years = 30\n",
    "stock = \"MSFT\"\n",
    "ticker = yf.Ticker(stock)\n",
    "df = ticker.history(period = '30y')\n",
    "df = pd.DataFrame(df)\n",
    "df['ticker'] = 'AAPL'\n"
   ]
  },
  {
   "cell_type": "code",
   "execution_count": 84,
   "metadata": {},
   "outputs": [
    {
     "data": {
      "text/plain": [
       "[<matplotlib.lines.Line2D at 0x144f99f50>]"
      ]
     },
     "execution_count": 84,
     "metadata": {},
     "output_type": "execute_result"
    },
    {
     "data": {
      "image/png": "[encoded data removed]",
      "text/plain": [
       "<Figure size 640x480 with 1 Axes>"
      ]
     },
     "metadata": {},
     "output_type": "display_data"
    }
   ],
   "source": [
    "annual_returns = df['Close'].resample('A')\n",
    "plt.plot((annual_returns.last()-annual_returns.first())/annual_returns.last(), '.')"
   ]
  },
  {
   "cell_type": "code",
   "execution_count": 86,
   "metadata": {},
   "outputs": [
    {
     "data": {
      "text/plain": [
       "Date\n",
       "1994-12-31 00:00:00-05:00           NaN\n",
       "1995-12-31 00:00:00-05:00           NaN\n",
       "1996-12-31 00:00:00-05:00      6.403062\n",
       "1997-12-31 00:00:00-05:00     10.016294\n",
       "1998-12-31 00:00:00-05:00     21.495306\n",
       "1999-12-31 00:00:00-05:00     36.190376\n",
       "2000-12-31 00:00:00-05:00           NaN\n",
       "2001-12-31 00:00:00-05:00     20.536299\n",
       "2002-12-31 00:00:00-05:00     16.026058\n",
       "2003-12-31 00:00:00-05:00     17.118469\n",
       "2004-12-31 00:00:00-05:00     18.681070\n",
       "2005-12-31 00:00:00-05:00           NaN\n",
       "2006-12-31 00:00:00-05:00           NaN\n",
       "2007-12-31 00:00:00-05:00     25.905088\n",
       "2008-12-31 00:00:00-05:00     14.406952\n",
       "2009-12-31 00:00:00-05:00     23.118437\n",
       "2010-12-31 00:00:00-05:00     21.610043\n",
       "2011-12-31 00:00:00-05:00           NaN\n",
       "2012-12-31 00:00:00-05:00     21.830753\n",
       "2013-12-31 00:00:00-05:00     31.501337\n",
       "2014-12-31 00:00:00-05:00     40.184559\n",
       "2015-12-31 00:00:00-05:00     49.303169\n",
       "2016-12-31 00:00:00-05:00           NaN\n",
       "2017-12-31 00:00:00-05:00           NaN\n",
       "2018-12-31 00:00:00-05:00     96.450592\n",
       "2019-12-31 00:00:00-05:00    151.965714\n",
       "2020-12-31 00:00:00-05:00    216.602890\n",
       "2021-12-31 00:00:00-05:00    330.269470\n",
       "2022-12-31 00:00:00-05:00           NaN\n",
       "2023-12-31 00:00:00-05:00           NaN\n",
       "2024-12-31 00:00:00-05:00           NaN\n",
       "Freq: A-DEC, Name: Close, dtype: float64"
      ]
     },
     "execution_count": 86,
     "metadata": {},
     "output_type": "execute_result"
    }
   ],
   "source": [
    "annual_returns.asfreq()"
   ]
  },
  {
   "cell_type": "code",
   "execution_count": null,
   "metadata": {},
   "outputs": [],
   "source": []
  }
 ],
 "metadata": {
  "kernelspec": {
   "display_name": "base",
   "language": "python",
   "name": "python3"
  },
  "language_info": {
   "codemirror_mode": {
    "name": "ipython",
    "version": 3
   },
   "file_extension": ".py",
   "mimetype": "text/x-python",
   "name": "python",
   "nbconvert_exporter": "python",
   "pygments_lexer": "ipython3",
   "version": "3.11.5"
  }
 },
 "nbformat": 4,
 "nbformat_minor": 2
}
