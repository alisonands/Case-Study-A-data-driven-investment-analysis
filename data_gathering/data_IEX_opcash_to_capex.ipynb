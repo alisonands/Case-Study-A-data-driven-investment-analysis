{
 "cells": [
  {
   "cell_type": "code",
   "execution_count": 183,
   "metadata": {},
   "outputs": [],
   "source": [
    "import requests\n",
    "import pandas as pd\n",
    "from api_keys import IEX_api"
   ]
  },
  {
   "cell_type": "code",
   "execution_count": 184,
   "metadata": {},
   "outputs": [],
   "source": [
    "ticker = 'AAPL'\n",
    "period = 'annual'\n",
    "last = '30'"
   ]
  },
  {
   "cell_type": "raw",
   "metadata": {},
   "source": [
    "#balance sheet  \n",
    "strategy = 'balance_sheet'\n",
    "\n",
    "# url = f'https://api.iex.cloud/v1/data/core/{strategy}/{ticker}/?token={IEX_api}'\n",
    "url = f'https://api.iex.cloud/v1/data/core/{strategy}/{ticker}/{period}?last={last}&token={IEX_api}'\n",
    "response = requests.get(url)\n",
    "balance_sheet = response.json()\n",
    "response"
   ]
  },
  {
   "cell_type": "raw",
   "metadata": {},
   "source": [
    "#cash_flow\n",
    "strategy = 'cash_flow'\n",
    "url = f'https://api.iex.cloud/v1/data/core/{strategy}/{ticker}/{period}?last={last}&token={IEX_api}'\n",
    "response = requests.get(url)\n",
    "cash_flow = response.json()\n",
    "response"
   ]
  },
  {
   "cell_type": "raw",
   "metadata": {},
   "source": [
    "#income statement\n",
    "strategy = 'income'\n",
    "url = f'https://api.iex.cloud/v1/data/core/{strategy}/{ticker}/{period}?last={last}&token={IEX_api}'\n",
    "response = requests.get(url)\n",
    "income_statement = response.json()\n",
    "response"
   ]
  },
  {
   "cell_type": "code",
   "execution_count": 185,
   "metadata": {},
   "outputs": [
    {
     "data": {
      "text/plain": [
       "<Response [200]>"
      ]
     },
     "execution_count": 185,
     "metadata": {},
     "output_type": "execute_result"
    }
   ],
   "source": [
    "#fundamentals\n",
    "strategy = 'fundamentals'\n",
    "url = f'https://api.iex.cloud/v1/data/core/{strategy}/{ticker}/{period}?last={last}&token={IEX_api}'\n",
    "response = requests.get(url)\n",
    "fundamentals = response.json()\n",
    "response"
   ]
  },
  {
   "cell_type": "code",
   "execution_count": 186,
   "metadata": {},
   "outputs": [
    {
     "data": {
      "text/plain": [
       "dict_keys(['accountsPayable', 'accountsPayableTurnover', 'accountsReceivable', 'accountsReceivableTurnover', 'asOfDate', 'assetsCurrentCash', 'assetsCurrentCashRestricted', 'assetsCurrentDeferredCompensation', 'assetsCurrentDeferredTax', 'assetsCurrentDiscontinuedOperations', 'assetsCurrentInvestments', 'assetsCurrentLeasesOperating', 'assetsCurrentLoansNet', 'assetsCurrentOther', 'assetsCurrentSeparateAccounts', 'assetsCurrentUnadjusted', 'assetsFixed', 'assetsFixedDeferredCompensation', 'assetsFixedDeferredTax', 'assetsFixedDiscontinuedOperations', 'assetsFixedLeasesOperating', 'assetsFixedOperatingDiscontinuedOperations', 'assetsFixedOperatingSubsidiaryUnconsolidated', 'assetsFixedOreo', 'assetsFixedOther', 'assetsFixedUnconsolidated', 'assetsUnadjusted', 'capex', 'capexAcquisition', 'capexMaintenance', 'cashConversionCycle', 'cashFlowFinancing', 'cashFlowInvesting', 'cashFlowOperating', 'cashFlowShareRepurchase', 'cashLongTerm', 'cashOperating', 'cashPaidForIncomeTaxes', 'cashPaidForInterest', 'cashRestricted', 'chargeAfterTax', 'chargeAfterTaxDiscontinuedOperations', 'chargesAfterTaxOther', 'cik', 'creditLossProvision', 'dataGenerationDate', 'daysInAccountsPayable', 'daysInInventory', 'daysInRevenueDeferred', 'daysRevenueOutstanding', 'debtFinancial', 'debtShortTerm', 'depreciationAndAmortizationAccumulated', 'depreciationAndAmortizationCashFlow', 'dividendsPreferred', 'dividendsPreferredRedeemableMandatorily', 'earningsRetained', 'ebitdaReported', 'ebitReported', 'equityShareholder', 'equityShareholderOther', 'equityShareholderOtherDeferredCompensation', 'equityShareholderOtherEquity', 'equityShareholderOtherMezzanine', 'expenses', 'expensesAcquisitionMerger', 'expensesCompensation', 'expensesDepreciationAndAmortization', 'expensesDerivative', 'expensesDiscontinuedOperations', 'expensesDiscontinuedOperationsReits', 'expensesEnergy', 'expensesForeignCurrency', 'expensesInterest', 'expensesInterestFinancials', 'expensesInterestMinority', 'expensesLegalRegulatoryInsurance', 'expensesNonOperatingCompanyDefinedOther', 'expensesNonOperatingOther', 'expensesNonOperatingSubsidiaryUnconsolidated', 'expensesNonRecurringOther', 'expensesOperating', 'expensesOperatingOther', 'expensesOperatingSubsidiaryUnconsolidated', 'expensesOreo', 'expensesOreoReits', 'expensesOtherFinancing', 'expensesRestructuring', 'expensesSga', 'expensesStockCompensation', 'expensesWriteDown', 'ffo', 'figi', 'filingDate', 'filingType', 'fiscalQuarter', 'fiscalYear', 'goodwillAmortizationCashFlow', 'goodwillAmortizationIncomeStatement', 'goodwillAndIntangiblesNetOther', 'goodwillNet', 'incomeFromOperations', 'incomeNet', 'incomeNetPerRevenue', 'incomeNetPerWabso', 'incomeNetPerWabsoSplitAdjusted', 'incomeNetPerWabsoSplitAdjustedYoyDeltaPercent', 'incomeNetPerWadso', 'incomeNetPerWadsoSplitAdjusted', 'incomeNetPerWadsoSplitAdjustedYoyDeltaPercent', 'incomeNetPreTax', 'incomeNetYoyDelta', 'incomeOperating', 'incomeOperatingDiscontinuedOperations', 'incomeOperatingOther', 'incomeOperatingSubsidiaryUnconsolidated', 'incomeOperatingSubsidiaryUnconsolidatedAfterTax', 'incomeTax', 'incomeTaxCurrent', 'incomeTaxDeferred', 'incomeTaxDiscontinuedOperations', 'incomeTaxOther', 'incomeTaxRate', 'interestMinority', 'inventory', 'inventoryTurnover', 'liabilities', 'liabilitiesCurrent', 'liabilitiesNonCurrentAndInterestMinorityTotal', 'liabilitiesNonCurrentDebt', 'liabilitiesNonCurrentDeferredCompensation', 'liabilitiesNonCurrentDeferredTax', 'liabilitiesNonCurrentDiscontinuedOperations', 'liabilitiesNonCurrentLeasesOperating', 'liabilitiesNonCurrentLongTerm', 'liabilitiesNonCurrentOperatingDiscontinuedOperations', 'liabilitiesNonCurrentOther', 'nibclDeferredCompensation', 'nibclDeferredTax', 'nibclDiscontinuedOperations', 'nibclLeasesOperating', 'nibclOther', 'nibclRestructuring', 'nibclRevenueDeferred', 'nibclRevenueDeferredTurnover', 'nibclSeparateAccounts', 'oci', 'periodEndDate', 'ppAndENet', 'pricePerEarnings', 'pricePerEarningsPerRevenueYoyDeltaPercent', 'profitGross', 'profitGrossPerRevenue', 'reportDate', 'researchAndDevelopmentExpense', 'reserves', 'reservesInventory', 'reservesLifo', 'reservesLoanLoss', 'revenue', 'revenueCostOther', 'revenueIncomeInterest', 'revenueOther', 'revenueSubsidiaryUnconsolidated', 'salesCost', 'sharesIssued', 'sharesOutstandingPeDateBs', 'sharesTreasury', 'stockCommon', 'stockPreferred', 'stockPreferredEquity', 'stockPreferredMezzanine', 'stockTreasury', 'symbol', 'totalCashFlow', 'wabso', 'wabsoSplitAdjusted', 'wadso', 'wadsoSplitAdjusted', 'id', 'key', 'subkey', 'date', 'updated'])"
      ]
     },
     "execution_count": 186,
     "metadata": {},
     "output_type": "execute_result"
    }
   ],
   "source": [
    "income_statement[0].keys()\n",
    "balance_sheet[0].keys()\n",
    "cash_flow[0].keys()\n",
    "fundamentals[0].keys()"
   ]
  },
  {
   "cell_type": "code",
   "execution_count": 189,
   "metadata": {},
   "outputs": [
    {
     "data": {
      "text/html": [
       "<div>\n",
       "<style scoped>\n",
       "    .dataframe tbody tr th:only-of-type {\n",
       "        vertical-align: middle;\n",
       "    }\n",
       "\n",
       "    .dataframe tbody tr th {\n",
       "        vertical-align: top;\n",
       "    }\n",
       "\n",
       "    .dataframe thead th {\n",
       "        text-align: right;\n",
       "    }\n",
       "</style>\n",
       "<table border=\"1\" class=\"dataframe\">\n",
       "  <thead>\n",
       "    <tr style=\"text-align: right;\">\n",
       "      <th></th>\n",
       "      <th>Operating cash flow</th>\n",
       "      <th>ticker</th>\n",
       "      <th>capex</th>\n",
       "      <th>Operating cash flow to capex</th>\n",
       "    </tr>\n",
       "    <tr>\n",
       "      <th>date</th>\n",
       "      <th></th>\n",
       "      <th></th>\n",
       "      <th></th>\n",
       "      <th></th>\n",
       "    </tr>\n",
       "  </thead>\n",
       "  <tbody>\n",
       "    <tr>\n",
       "      <th>2023</th>\n",
       "      <td>110543000000</td>\n",
       "      <td>AAPL</td>\n",
       "      <td>-10959000000</td>\n",
       "      <td>9.913789</td>\n",
       "    </tr>\n",
       "    <tr>\n",
       "      <th>2022</th>\n",
       "      <td>122151000000</td>\n",
       "      <td>AAPL</td>\n",
       "      <td>-10708000000</td>\n",
       "      <td>8.766199</td>\n",
       "    </tr>\n",
       "    <tr>\n",
       "      <th>2021</th>\n",
       "      <td>104038000000</td>\n",
       "      <td>AAPL</td>\n",
       "      <td>-11085000000</td>\n",
       "      <td>10.654761</td>\n",
       "    </tr>\n",
       "    <tr>\n",
       "      <th>2020</th>\n",
       "      <td>80674000000</td>\n",
       "      <td>AAPL</td>\n",
       "      <td>-7309000000</td>\n",
       "      <td>9.05992</td>\n",
       "    </tr>\n",
       "    <tr>\n",
       "      <th>2019</th>\n",
       "      <td>69391000000</td>\n",
       "      <td>AAPL</td>\n",
       "      <td>-10495000000</td>\n",
       "      <td>15.12444</td>\n",
       "    </tr>\n",
       "    <tr>\n",
       "      <th>2018</th>\n",
       "      <td>77434000000</td>\n",
       "      <td>AAPL</td>\n",
       "      <td>-13313000000</td>\n",
       "      <td>17.192706</td>\n",
       "    </tr>\n",
       "    <tr>\n",
       "      <th>2017</th>\n",
       "      <td>63598000000</td>\n",
       "      <td>AAPL</td>\n",
       "      <td>-12795000000</td>\n",
       "      <td>20.118557</td>\n",
       "    </tr>\n",
       "    <tr>\n",
       "      <th>2016</th>\n",
       "      <td>65824000000</td>\n",
       "      <td>AAPL</td>\n",
       "      <td>-13548000000</td>\n",
       "      <td>20.582158</td>\n",
       "    </tr>\n",
       "    <tr>\n",
       "      <th>2015</th>\n",
       "      <td>81266000000</td>\n",
       "      <td>AAPL</td>\n",
       "      <td>-11247000000</td>\n",
       "      <td>13.839736</td>\n",
       "    </tr>\n",
       "    <tr>\n",
       "      <th>2014</th>\n",
       "      <td>59713000000</td>\n",
       "      <td>AAPL</td>\n",
       "      <td>-9813000000</td>\n",
       "      <td>16.433607</td>\n",
       "    </tr>\n",
       "    <tr>\n",
       "      <th>2013</th>\n",
       "      <td>53666000000</td>\n",
       "      <td>AAPL</td>\n",
       "      <td>-9076000000</td>\n",
       "      <td>16.912011</td>\n",
       "    </tr>\n",
       "    <tr>\n",
       "      <th>2012</th>\n",
       "      <td>50856000000</td>\n",
       "      <td>AAPL</td>\n",
       "      <td>-9402000000</td>\n",
       "      <td>18.487494</td>\n",
       "    </tr>\n",
       "    <tr>\n",
       "      <th>2011</th>\n",
       "      <td>37529000000</td>\n",
       "      <td>AAPL</td>\n",
       "      <td>-7452000000</td>\n",
       "      <td>19.856644</td>\n",
       "    </tr>\n",
       "    <tr>\n",
       "      <th>2010</th>\n",
       "      <td>18595000000</td>\n",
       "      <td>AAPL</td>\n",
       "      <td>-2121000000</td>\n",
       "      <td>11.406292</td>\n",
       "    </tr>\n",
       "    <tr>\n",
       "      <th>2009</th>\n",
       "      <td>10159000000</td>\n",
       "      <td>AAPL</td>\n",
       "      <td>-1213000000</td>\n",
       "      <td>11.940152</td>\n",
       "    </tr>\n",
       "    <tr>\n",
       "      <th>2008</th>\n",
       "      <td>9596000000</td>\n",
       "      <td>AAPL</td>\n",
       "      <td>-1199000000</td>\n",
       "      <td>12.494789</td>\n",
       "    </tr>\n",
       "    <tr>\n",
       "      <th>2007</th>\n",
       "      <td>5470000000</td>\n",
       "      <td>AAPL</td>\n",
       "      <td>-986000000</td>\n",
       "      <td>18.025594</td>\n",
       "    </tr>\n",
       "    <tr>\n",
       "      <th>2006</th>\n",
       "      <td>2220000000</td>\n",
       "      <td>AAPL</td>\n",
       "      <td>-657000000</td>\n",
       "      <td>29.594595</td>\n",
       "    </tr>\n",
       "    <tr>\n",
       "      <th>2005</th>\n",
       "      <td>2535000000</td>\n",
       "      <td>AAPL</td>\n",
       "      <td>0</td>\n",
       "      <td>0.0</td>\n",
       "    </tr>\n",
       "    <tr>\n",
       "      <th>2004</th>\n",
       "      <td>934000000</td>\n",
       "      <td>AAPL</td>\n",
       "      <td>0</td>\n",
       "      <td>0.0</td>\n",
       "    </tr>\n",
       "    <tr>\n",
       "      <th>2003</th>\n",
       "      <td>289000000</td>\n",
       "      <td>AAPL</td>\n",
       "      <td>0</td>\n",
       "      <td>0.0</td>\n",
       "    </tr>\n",
       "    <tr>\n",
       "      <th>2002</th>\n",
       "      <td>89000000</td>\n",
       "      <td>AAPL</td>\n",
       "      <td>0</td>\n",
       "      <td>0.0</td>\n",
       "    </tr>\n",
       "    <tr>\n",
       "      <th>2001</th>\n",
       "      <td>185000000</td>\n",
       "      <td>AAPL</td>\n",
       "      <td>0</td>\n",
       "      <td>0.0</td>\n",
       "    </tr>\n",
       "    <tr>\n",
       "      <th>2000</th>\n",
       "      <td>826000000</td>\n",
       "      <td>AAPL</td>\n",
       "      <td>0</td>\n",
       "      <td>0.0</td>\n",
       "    </tr>\n",
       "    <tr>\n",
       "      <th>1999</th>\n",
       "      <td>798000000</td>\n",
       "      <td>AAPL</td>\n",
       "      <td>0</td>\n",
       "      <td>0.0</td>\n",
       "    </tr>\n",
       "    <tr>\n",
       "      <th>1998</th>\n",
       "      <td>775000000</td>\n",
       "      <td>AAPL</td>\n",
       "      <td>0</td>\n",
       "      <td>0.0</td>\n",
       "    </tr>\n",
       "  </tbody>\n",
       "</table>\n",
       "</div>"
      ],
      "text/plain": [
       "     Operating cash flow ticker         capex Operating cash flow to capex\n",
       "date                                                                      \n",
       "2023        110543000000   AAPL  -10959000000                     9.913789\n",
       "2022        122151000000   AAPL  -10708000000                     8.766199\n",
       "2021        104038000000   AAPL  -11085000000                    10.654761\n",
       "2020         80674000000   AAPL   -7309000000                      9.05992\n",
       "2019         69391000000   AAPL  -10495000000                     15.12444\n",
       "2018         77434000000   AAPL  -13313000000                    17.192706\n",
       "2017         63598000000   AAPL  -12795000000                    20.118557\n",
       "2016         65824000000   AAPL  -13548000000                    20.582158\n",
       "2015         81266000000   AAPL  -11247000000                    13.839736\n",
       "2014         59713000000   AAPL   -9813000000                    16.433607\n",
       "2013         53666000000   AAPL   -9076000000                    16.912011\n",
       "2012         50856000000   AAPL   -9402000000                    18.487494\n",
       "2011         37529000000   AAPL   -7452000000                    19.856644\n",
       "2010         18595000000   AAPL   -2121000000                    11.406292\n",
       "2009         10159000000   AAPL   -1213000000                    11.940152\n",
       "2008          9596000000   AAPL   -1199000000                    12.494789\n",
       "2007          5470000000   AAPL    -986000000                    18.025594\n",
       "2006          2220000000   AAPL    -657000000                    29.594595\n",
       "2005          2535000000   AAPL             0                          0.0\n",
       "2004           934000000   AAPL             0                          0.0\n",
       "2003           289000000   AAPL             0                          0.0\n",
       "2002            89000000   AAPL             0                          0.0\n",
       "2001           185000000   AAPL             0                          0.0\n",
       "2000           826000000   AAPL             0                          0.0\n",
       "1999           798000000   AAPL             0                          0.0\n",
       "1998           775000000   AAPL             0                          0.0"
      ]
     },
     "execution_count": 189,
     "metadata": {},
     "output_type": "execute_result"
    }
   ],
   "source": [
    "opcash_to_capex = pd.DataFrame({\n",
    "    'date':'',\n",
    "    'Operating cash flow': '',\n",
    "    'ticker': ticker,\n",
    "    'capex': ''\n",
    "}, index = range(len(fundamentals)))\n",
    "for i in range(len(fundamentals)):\n",
    "    opcash_to_capex.iloc[i]['date'] = fundamentals[i]['date']\n",
    "    opcash_to_capex.loc[i, 'Operating cash flow'] = fundamentals[i]['cashFlowOperating']\n",
    "    opcash_to_capex.loc[i, 'capex'] = fundamentals[i]['capex']\n",
    "    # print(fundamentals[i]['date'], fundamentals[i]['cashFlowOperating'], fundamentals[i]['capex'])\n",
    "\n",
    "opcash_to_capex['date'] = pd.to_datetime(opcash_to_capex['date'], unit = 'ms').dt.year\n",
    "opcash_to_capex['Operating cash flow to capex'] =abs(opcash_to_capex['capex']/opcash_to_capex['Operating cash flow'] * 100)\n",
    "opcash_to_capex.set_index('date')"
   ]
  },
  {
   "cell_type": "code",
   "execution_count": 190,
   "metadata": {},
   "outputs": [
    {
     "data": {
      "text/plain": [
       "<Axes: xlabel='date'>"
      ]
     },
     "execution_count": 190,
     "metadata": {},
     "output_type": "execute_result"
    },
    {
     "data": {
      "image/png": "[encoded data removed]",
      "text/plain": [
       "<Figure size 640x480 with 1 Axes>"
      ]
     },
     "metadata": {},
     "output_type": "display_data"
    }
   ],
   "source": [
    "opcash_to_capex = opcash_to_capex[~(opcash_to_capex['capex'] == 0)]\n",
    "opcash_to_capex.plot(x = 'date', y = 'Operating cash flow to capex')"
   ]
  }
 ],
 "metadata": {
  "kernelspec": {
   "display_name": "base",
   "language": "python",
   "name": "python3"
  },
  "language_info": {
   "codemirror_mode": {
    "name": "ipython",
    "version": 3
   },
   "file_extension": ".py",
   "mimetype": "text/x-python",
   "name": "python",
   "nbconvert_exporter": "python",
   "pygments_lexer": "ipython3",
   "version": "3.11.5"
  }
 },
 "nbformat": 4,
 "nbformat_minor": 2
}
