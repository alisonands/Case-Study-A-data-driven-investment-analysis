{
 "cells": [
  {
   "cell_type": "code",
   "execution_count": 14,
   "metadata": {},
   "outputs": [],
   "source": [
    "import requests\n",
    "import pandas as pd\n",
    "from api_keys import AL_api"
   ]
  },
  {
   "cell_type": "code",
   "execution_count": 18,
   "metadata": {},
   "outputs": [
    {
     "name": "stdout",
     "output_type": "stream",
     "text": [
      "<Response [200]>\n"
     ]
    }
   ],
   "source": [
    "symbol = 'IBM'\n",
    "params = {\n",
    "    \"key\": AL_api,\n",
    "    \"symbol\": symbol,\n",
    "    \"summary\": 'true',\n",
    "    \"statistics\": 'true'\n",
    "}\n",
    "base_url = 'https://api.aletheiaapi.com/StockData'\n",
    "print(requests.get(base_url, params=params))\n",
    "response = requests.get(base_url, params = params).json()"
   ]
  },
  {
   "cell_type": "code",
   "execution_count": 13,
   "metadata": {},
   "outputs": [
    {
     "data": {
      "text/plain": [
       "dict_keys(['FiscalYearEnds', 'MostRecentQuarter', 'ProfitMargin', 'OperatingMargin', 'ReturnOnAssets', 'ReturnOnEquity', 'Revenue', 'RevenuePerShare', 'QuarterlyRevenueGrowth', 'GrossProfit', 'EBITDA', 'NetIncomeAvailableToCommon', 'DilutedEps', 'QuarterlyEarningsGrowth', 'TotalCash', 'TotalCashPerShare', 'TotalDebt', 'TotalDebtEquityRatio', 'CurrentRatio', 'BookValuePerShare', 'OperatingCashFlow', 'LeveredFreeCashFlow', 'Beta', 'YearChange', 'SP500YearChange', 'YearHigh', 'YearLow', 'MovingAverage50Day', 'MovingAverage200Day', 'AverageVolume3Month', 'AverageVolume10Day', 'SharesOutstanding', 'Float', 'PercentHeldByInsiders', 'PercentHeldByInstitutions', 'SharesShort', 'ShortRatio', 'ShortPercentOfFloat', 'ShortPercentOfSharesOutstanding', 'ForwardAnnualDividend', 'ForwardAnnualDividendYield', 'TrailingAnnualDividend', 'TrailingAnnualDividendYield', 'FiveYearAverageDividendYield', 'DividendPayoutRatio', 'DividendDate', 'ExDividendDate', 'LastSplitFactor', 'LastSplitDate', 'QueriedSymbol', 'DataCollectedOn'])"
      ]
     },
     "execution_count": 13,
     "metadata": {},
     "output_type": "execute_result"
    }
   ],
   "source": [
    "response['Statistics'].keys()"
   ]
  },
  {
   "cell_type": "code",
   "execution_count": null,
   "metadata": {},
   "outputs": [],
   "source": []
  }
 ],
 "metadata": {
  "kernelspec": {
   "display_name": "base",
   "language": "python",
   "name": "python3"
  },
  "language_info": {
   "codemirror_mode": {
    "name": "ipython",
    "version": 3
   },
   "file_extension": ".py",
   "mimetype": "text/x-python",
   "name": "python",
   "nbconvert_exporter": "python",
   "pygments_lexer": "ipython3",
   "version": "3.11.5"
  }
 },
 "nbformat": 4,
 "nbformat_minor": 2
}
